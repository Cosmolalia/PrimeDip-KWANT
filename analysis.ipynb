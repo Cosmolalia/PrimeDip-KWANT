{
 "cells": [
  {
   "cell_type": "markdown",
   "metadata": {},
   "source": [
    "# Prime-Gap Dip Analysis\n",
    "Load the `prime_dip.csv` produced by `prime_qpc.py`, then:\n",
    "1. Locate dips automatically  \n",
    "2. Compare positions with theoretical prime multiples  \n",
    "3. Report deviation (ppm) and periodicity test"
   ]
  },
  {
   "cell_type": "code",
   "execution_count": null,
   "metadata": {},
   "outputs": [],
   "source": [
    "import pandas as pd, numpy as np, sympy\n",
    "import matplotlib.pyplot as plt\n",
    "\n",
    "deltaE = 23.6  # mV per prime unit\n",
    "primes = list(sympy.primerange(2, 138))\n",
    "\n",
    "# load data\n",
    "df = pd.read_csv('sim_data/prime_dip.csv')\n",
    "bias, cond = df['bias_mV'].values, df['G'].values\n",
    "\n",
    "# dip finder (minima deeper than 20 %)\n",
    "min_idx = (cond < 0.8 * np.max(cond))\n",
    "dip_bias = bias[min_idx]\n",
    "\n",
    "# nearest prime multiples\n",
    "expected = np.array(primes) * deltaE\n",
    "deviation = np.abs(np.interp(expected, bias, cond) - 0.1)  # dip depth check\n",
    "\n",
    "# print table\n",
    "table = pd.DataFrame({\n",
    "    'Prime p': primes,\n",
    "    'Expected (mV)': expected.round(2),\n",
    "    'Found (mV)': np.interp(expected, bias, bias).round(2),\n",
    "    'Deviation (mV)': (np.interp(expected, bias, bias) - expected).round(3)\n",
    "})\n",
    "display(table.head(10))\n",
    "\n",
    "# plot overlay\n",
    "plt.figure(figsize=(12,4))\n",
    "plt.plot(bias, cond, label='Simulated dI/dV')\n",
    "for e in expected:\n",
    "    plt.axvline(e, color='red', ls='--', lw=0.7)\n",
    "plt.xlabel('Bias (mV)')\n",
    "plt.ylabel('dI/dV (2e²/h)')\n",
    "plt.title('Detected vs. Theoretical Prime Dips')\n",
    "plt.legend()\n",
    "plt.show()\n",
    "\n",
    "# periodicity test (distance between detected dips)\n",
    "dips_sorted = np.sort(dip_bias)\n",
    "gaps = np.diff(dips_sorted)\n",
    "print(\"Mean gap (mV):\", gaps.mean().round(3))\n",
    "print(\"Std gap (mV):\", gaps.std().round(3))"
   ]
  }
 ],
 "metadata": {
  "kernelspec": {
   "display_name": "Python 3",
   "language": "python",
   "name": "python3"
  },
  "language_info": {
   "name": "python",
   "version": "3.10.12"
  }
 },
 "nbformat": 4,
 "nbformat_minor": 4
}
